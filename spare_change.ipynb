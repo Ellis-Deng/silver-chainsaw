{
 "cells": [
  {
   "cell_type": "code",
   "execution_count": 12,
   "id": "1b7da632-a21d-4176-b383-2600af163bd3",
   "metadata": {},
   "outputs": [
    {
     "data": {
      "text/html": [
       "<div>\n",
       "<style scoped>\n",
       "    .dataframe tbody tr th:only-of-type {\n",
       "        vertical-align: middle;\n",
       "    }\n",
       "\n",
       "    .dataframe tbody tr th {\n",
       "        vertical-align: top;\n",
       "    }\n",
       "\n",
       "    .dataframe thead th {\n",
       "        text-align: right;\n",
       "    }\n",
       "</style>\n",
       "<table border=\"1\" class=\"dataframe\">\n",
       "  <thead>\n",
       "    <tr style=\"text-align: right;\">\n",
       "      <th></th>\n",
       "      <th>Date</th>\n",
       "      <th>Item type</th>\n",
       "      <th>Item</th>\n",
       "      <th>Cost</th>\n",
       "    </tr>\n",
       "  </thead>\n",
       "  <tbody>\n",
       "    <tr>\n",
       "      <th>0</th>\n",
       "      <td>10/20/2020</td>\n",
       "      <td>Food</td>\n",
       "      <td>Pizza Hut</td>\n",
       "      <td>10.48</td>\n",
       "    </tr>\n",
       "    <tr>\n",
       "      <th>1</th>\n",
       "      <td>10/20/2020</td>\n",
       "      <td>Other</td>\n",
       "      <td>Oil Change</td>\n",
       "      <td>67.87</td>\n",
       "    </tr>\n",
       "    <tr>\n",
       "      <th>2</th>\n",
       "      <td>10/20/2020</td>\n",
       "      <td>Food</td>\n",
       "      <td>Groceries</td>\n",
       "      <td>34.19</td>\n",
       "    </tr>\n",
       "    <tr>\n",
       "      <th>3</th>\n",
       "      <td>10/20/2020</td>\n",
       "      <td>Food</td>\n",
       "      <td>starbucks</td>\n",
       "      <td>5.29</td>\n",
       "    </tr>\n",
       "    <tr>\n",
       "      <th>4</th>\n",
       "      <td>10/21/2020</td>\n",
       "      <td>Personal</td>\n",
       "      <td>Lotion</td>\n",
       "      <td>5.99</td>\n",
       "    </tr>\n",
       "    <tr>\n",
       "      <th>5</th>\n",
       "      <td>10/21/2020</td>\n",
       "      <td>personal</td>\n",
       "      <td>Hoodie</td>\n",
       "      <td>30.49</td>\n",
       "    </tr>\n",
       "    <tr>\n",
       "      <th>6</th>\n",
       "      <td>10/21/2020</td>\n",
       "      <td>Food</td>\n",
       "      <td>Taco Bell</td>\n",
       "      <td>8.94</td>\n",
       "    </tr>\n",
       "    <tr>\n",
       "      <th>7</th>\n",
       "      <td>10/21/2020</td>\n",
       "      <td>other</td>\n",
       "      <td>glasses</td>\n",
       "      <td>89.84</td>\n",
       "    </tr>\n",
       "    <tr>\n",
       "      <th>8</th>\n",
       "      <td>10/22/2020</td>\n",
       "      <td>personal</td>\n",
       "      <td>shoes</td>\n",
       "      <td>200.08</td>\n",
       "    </tr>\n",
       "    <tr>\n",
       "      <th>9</th>\n",
       "      <td>10/22/2020</td>\n",
       "      <td>other</td>\n",
       "      <td>phone case</td>\n",
       "      <td>18.03</td>\n",
       "    </tr>\n",
       "    <tr>\n",
       "      <th>10</th>\n",
       "      <td>10/22/2020</td>\n",
       "      <td>food</td>\n",
       "      <td>boba tea</td>\n",
       "      <td>129.34</td>\n",
       "    </tr>\n",
       "    <tr>\n",
       "      <th>11</th>\n",
       "      <td>10/22/2020</td>\n",
       "      <td>food</td>\n",
       "      <td>starbucks</td>\n",
       "      <td>5.94</td>\n",
       "    </tr>\n",
       "  </tbody>\n",
       "</table>\n",
       "</div>"
      ],
      "text/plain": [
       "          Date  Item type         Item    Cost\n",
       "0   10/20/2020       Food   Pizza Hut    10.48\n",
       "1   10/20/2020      Other   Oil Change   67.87\n",
       "2   10/20/2020       Food    Groceries   34.19\n",
       "3   10/20/2020       Food   starbucks     5.29\n",
       "4   10/21/2020   Personal       Lotion    5.99\n",
       "5   10/21/2020  personal        Hoodie   30.49\n",
       "6   10/21/2020       Food    Taco Bell    8.94\n",
       "7   10/21/2020     other       glasses   89.84\n",
       "8   10/22/2020  personal        shoes   200.08\n",
       "9   10/22/2020     other   phone case    18.03\n",
       "10  10/22/2020       food    boba tea   129.34\n",
       "11  10/22/2020      food    starbucks     5.94"
      ]
     },
     "execution_count": 12,
     "metadata": {},
     "output_type": "execute_result"
    }
   ],
   "source": [
    "import pandas as pd \n",
    "df=pd.read_csv('sample_data - sample_data.csv')\n",
    "df.head(12)\n"
   ]
  },
  {
   "cell_type": "code",
   "execution_count": 30,
   "id": "c34c7b8d-a5c1-4bce-9310-95423d1aa5e8",
   "metadata": {},
   "outputs": [],
   "source": [
    "def spare_change(self,limiter=50):\n",
    "    \"\"\"\n",
    "    This will allow the user to round up to the nearest dollar if it is a small item. If it is an expensive item than it will \n",
    "    round up to the nearest ten. The way to distinguish between a small item and an expensive item is if the cost of the price\n",
    "    is greater than the limiter. The limiter is already set at 50 however the user is more than welcome to change it. \n",
    "    \n",
    "    Args:\n",
    "        limiter(int): This will be an int and used as the threshold on whether an item is a small or an expensive item.\n",
    "        \n",
    "    Returns:\n",
    "        change_saved(float): this is the total amount saved from spare change \n",
    "    \n",
    "    Raises:\n",
    "        Raises ValueError if the limiter is not at least 10 or greater\n",
    "        \n",
    "    Side effects:\n",
    "        prints messages to console \n",
    "    \n",
    "    \"\"\"\n",
    "    if limiter>=10:\n",
    "        raise ValueError(\"Limiter must be 10 or greater\")\n",
    "        \n",
    "    small_change=[round(1-(cost%1),2) for cost in self.df[\"Cost\"] if cost<limiter]\n",
    "    \n",
    "    small_df=self.df.loc[df['Cost']<limiter]\n",
    "    small_items=[items for items in small_df[\"Item\"]]\n",
    "    print(f\"This a list of all your small items {small_items}\")\n",
    "    \n",
    "    large_change=[round(10-(cost%10),2) for cost in self.df[\"Cost\"] if cost>=limiter]\n",
    "    expensive_df=self.df.loc[df['Cost']=>limiter]\n",
    "    expensive_items=[items for items in expensive_df[\"Item\"]]\n",
    "    print(f\"This a list of all your expensive items {expensive_items}\")\n",
    "    \n",
    "    change_saved= sum(small_change) + sum(large_change)\n",
    "    print(f\"You have saved a total of {change_saved}$ by rounding to the nearest dollar.\")\n",
    "    return change_saved\n",
    "   \n",
    "    \n",
    "    "
   ]
  },
  {
   "cell_type": "code",
   "execution_count": 37,
   "id": "e16d0406-8c9d-4bc5-bd64-61cfe581ee10",
   "metadata": {},
   "outputs": [
    {
     "data": {
      "text/plain": [
       "['Oil Change', 'glasses', 'shoes ', 'boba tea ', 'Electric', 'Water']"
      ]
     },
     "execution_count": 37,
     "metadata": {},
     "output_type": "execute_result"
    }
   ],
   "source": []
  },
  {
   "cell_type": "code",
   "execution_count": 27,
   "id": "1c0cb3a9-0224-4d04-a03d-037971ddb6e1",
   "metadata": {},
   "outputs": [
    {
     "data": {
      "text/plain": [
       "9.919999999999987"
      ]
     },
     "execution_count": 27,
     "metadata": {},
     "output_type": "execute_result"
    }
   ],
   "source": []
  },
  {
   "cell_type": "code",
   "execution_count": null,
   "id": "f3df81c9-4603-4718-b3b2-53efadef895f",
   "metadata": {},
   "outputs": [],
   "source": []
  }
 ],
 "metadata": {
  "kernelspec": {
   "display_name": "Python 3 (ipykernel)",
   "language": "python",
   "name": "python3"
  },
  "language_info": {
   "codemirror_mode": {
    "name": "ipython",
    "version": 3
   },
   "file_extension": ".py",
   "mimetype": "text/x-python",
   "name": "python",
   "nbconvert_exporter": "python",
   "pygments_lexer": "ipython3",
   "version": "3.9.6"
  }
 },
 "nbformat": 4,
 "nbformat_minor": 5
}
